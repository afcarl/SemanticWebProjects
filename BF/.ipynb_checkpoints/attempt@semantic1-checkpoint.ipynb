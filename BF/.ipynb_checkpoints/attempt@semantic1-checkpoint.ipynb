{
 "cells": [
  {
   "cell_type": "code",
   "execution_count": 171,
   "metadata": {
    "collapsed": false,
    "scrolled": true
   },
   "outputs": [],
   "source": [
    "import os,sys\n",
    "import numpy as np\n",
    "import pandas as pd\n",
    "import networkx as nx\n",
    "import jgraph\n",
    "import nltk\n",
    "import matplotlib.pyplot as plt\n",
    "from sklearn.cluster import k_means\n",
    "reload(sys)\n",
    "py.sign_in('priyakhokher','fqvpbkslvb')\n",
    "#from h3.tree import Tree\n",
    "from itertools import combinations\n",
    "import collections\n",
    "sys.setdefaultencoding('utf8')\n",
    "import plotly.plotly as py\n",
    "from plotly.graph_objs import *\n",
    "%matplotlib inline"
   ]
  },
  {
   "cell_type": "markdown",
   "metadata": {},
   "source": [
    "#### Data\n",
    "Data can be found on https://www.reddit.com/r/datasets/comments/3es1s4/33k_nytimes_and_18k_buzzfeed_facebook_posts_and_a/"
   ]
  },
  {
   "cell_type": "code",
   "execution_count": 110,
   "metadata": {
    "collapsed": false
   },
   "outputs": [],
   "source": [
    "data = pd.read_csv('buzzfeed_facebook_statuses/buzzfeed_facebook_statuses.csv')"
   ]
  },
  {
   "cell_type": "code",
   "execution_count": 12,
   "metadata": {
    "collapsed": false
   },
   "outputs": [
    {
     "data": {
      "text/plain": [
       "Index([u'status_id', u'status_message', u'link_name', u'status_type',\n",
       "       u'status_link', u'status_published', u'num_likes', u'num_comments',\n",
       "       u'num_shares'],\n",
       "      dtype='object')"
      ]
     },
     "execution_count": 12,
     "metadata": {},
     "output_type": "execute_result"
    }
   ],
   "source": [
    "data.columns"
   ]
  },
  {
   "cell_type": "code",
   "execution_count": 13,
   "metadata": {
    "collapsed": false,
    "scrolled": true
   },
   "outputs": [
    {
     "data": {
      "text/html": [
       "<div>\n",
       "<table border=\"1\" class=\"dataframe\">\n",
       "  <thead>\n",
       "    <tr style=\"text-align: right;\">\n",
       "      <th></th>\n",
       "      <th>status_id</th>\n",
       "      <th>status_message</th>\n",
       "      <th>link_name</th>\n",
       "      <th>status_type</th>\n",
       "      <th>status_link</th>\n",
       "      <th>status_published</th>\n",
       "      <th>num_likes</th>\n",
       "      <th>num_comments</th>\n",
       "      <th>num_shares</th>\n",
       "    </tr>\n",
       "  </thead>\n",
       "  <tbody>\n",
       "    <tr>\n",
       "      <th>0</th>\n",
       "      <td>21898300328_10153621905210329</td>\n",
       "      <td>Went to the kitchen to grab scissors, left wit...</td>\n",
       "      <td>33 Faces Everyone With ADD Will Immediately Re...</td>\n",
       "      <td>link</td>\n",
       "      <td>http://bzfd.it/1TDdJHZ</td>\n",
       "      <td>7/19/2015 16:01</td>\n",
       "      <td>5253</td>\n",
       "      <td>560</td>\n",
       "      <td>2554</td>\n",
       "    </tr>\n",
       "    <tr>\n",
       "      <th>1</th>\n",
       "      <td>21898300328_10153750673545329</td>\n",
       "      <td>Warning: GRAPHIC, because, ya know, birth.</td>\n",
       "      <td>This Guy Recorded His Wife Giving Birth To A 1...</td>\n",
       "      <td>link</td>\n",
       "      <td>http://bzfd.it/1LgmaYc</td>\n",
       "      <td>7/19/2015 15:01</td>\n",
       "      <td>3408</td>\n",
       "      <td>655</td>\n",
       "      <td>1103</td>\n",
       "    </tr>\n",
       "    <tr>\n",
       "      <th>2</th>\n",
       "      <td>21898300328_10153723602000329</td>\n",
       "      <td>Two flower girls for the price of one!</td>\n",
       "      <td>This Adorable Dad Became The Flower Girl When ...</td>\n",
       "      <td>link</td>\n",
       "      <td>http://bzfd.it/1HW2emv</td>\n",
       "      <td>7/19/2015 14:31</td>\n",
       "      <td>828</td>\n",
       "      <td>24</td>\n",
       "      <td>26</td>\n",
       "    </tr>\n",
       "    <tr>\n",
       "      <th>3</th>\n",
       "      <td>21898300328_10153783767055329</td>\n",
       "      <td>If you can't wear a regular band on the job, o...</td>\n",
       "      <td>28 Beautiful Alternatives For People Who Can’t...</td>\n",
       "      <td>link</td>\n",
       "      <td>http://bzfd.it/1e741O1</td>\n",
       "      <td>7/19/2015 14:03</td>\n",
       "      <td>3495</td>\n",
       "      <td>329</td>\n",
       "      <td>709</td>\n",
       "    </tr>\n",
       "    <tr>\n",
       "      <th>4</th>\n",
       "      <td>21898300328_10153715516145329</td>\n",
       "      <td>Keinen Bock mehr!\\n\\n(via BuzzFeed Deutschland)</td>\n",
       "      <td>17 Menschen, die einfach aufgegeben haben</td>\n",
       "      <td>link</td>\n",
       "      <td>http://www.buzzfeed.com/philippjahner/asdfghjk...</td>\n",
       "      <td>7/19/2015 13:48</td>\n",
       "      <td>79</td>\n",
       "      <td>6</td>\n",
       "      <td>11</td>\n",
       "    </tr>\n",
       "  </tbody>\n",
       "</table>\n",
       "</div>"
      ],
      "text/plain": [
       "                       status_id  \\\n",
       "0  21898300328_10153621905210329   \n",
       "1  21898300328_10153750673545329   \n",
       "2  21898300328_10153723602000329   \n",
       "3  21898300328_10153783767055329   \n",
       "4  21898300328_10153715516145329   \n",
       "\n",
       "                                      status_message  \\\n",
       "0  Went to the kitchen to grab scissors, left wit...   \n",
       "1         Warning: GRAPHIC, because, ya know, birth.   \n",
       "2             Two flower girls for the price of one!   \n",
       "3  If you can't wear a regular band on the job, o...   \n",
       "4    Keinen Bock mehr!\\n\\n(via BuzzFeed Deutschland)   \n",
       "\n",
       "                                           link_name status_type  \\\n",
       "0  33 Faces Everyone With ADD Will Immediately Re...        link   \n",
       "1  This Guy Recorded His Wife Giving Birth To A 1...        link   \n",
       "2  This Adorable Dad Became The Flower Girl When ...        link   \n",
       "3  28 Beautiful Alternatives For People Who Can’t...        link   \n",
       "4          17 Menschen, die einfach aufgegeben haben        link   \n",
       "\n",
       "                                         status_link status_published  \\\n",
       "0                             http://bzfd.it/1TDdJHZ  7/19/2015 16:01   \n",
       "1                             http://bzfd.it/1LgmaYc  7/19/2015 15:01   \n",
       "2                             http://bzfd.it/1HW2emv  7/19/2015 14:31   \n",
       "3                             http://bzfd.it/1e741O1  7/19/2015 14:03   \n",
       "4  http://www.buzzfeed.com/philippjahner/asdfghjk...  7/19/2015 13:48   \n",
       "\n",
       "   num_likes  num_comments  num_shares  \n",
       "0       5253           560        2554  \n",
       "1       3408           655        1103  \n",
       "2        828            24          26  \n",
       "3       3495           329         709  \n",
       "4         79             6          11  "
      ]
     },
     "execution_count": 13,
     "metadata": {},
     "output_type": "execute_result"
    }
   ],
   "source": [
    "data.head()"
   ]
  },
  {
   "cell_type": "code",
   "execution_count": 55,
   "metadata": {
    "collapsed": false
   },
   "outputs": [],
   "source": [
    "# Remove stop words from the names of the links\n",
    "from nltk.corpus import stopwords\n",
    "ls = map(lambda x: x.upper(),stopwords.words('english'))\n",
    "data['tokenize'] = map(lambda x: set(nltk.word_tokenize(str(x).upper())),data['link_name'])\n",
    "data['tokenize'] = filter(lambda x: set(ls) - set(x) , data['tokenize'])"
   ]
  },
  {
   "cell_type": "code",
   "execution_count": 197,
   "metadata": {
    "collapsed": false
   },
   "outputs": [],
   "source": [
    "# was gonna try k-means clustering before doing semantics to see if clusters with same cluster are semantically related but\n",
    "# changed my mind - for later\n",
    "# data_cluster = data[[u'num_likes', u'num_comments',u'num_shares']]\n",
    "\n",
    "# est=k_means(data_cluster,n_clusters = 5)\n",
    "\n",
    "# list(est[1])\n",
    "\n",
    "# data['cluster'] = list(est[1])\n",
    "\n",
    "# data[data['cluster']==2]"
   ]
  },
  {
   "cell_type": "code",
   "execution_count": 41,
   "metadata": {
    "collapsed": false
   },
   "outputs": [],
   "source": [
    "# convert words to uppercase to maintain uniformity while forming nodes of network\n",
    "# Dog and dog as 2 different nodes will not make lives easier and they are going to adorable anyway\n",
    "data['words'] = map(lambda x: nltk.pos_tag(nltk.word_tokenize(str(x).upper())),data['link_name'])\n",
    "# take only those words that actually form semantics - noun and adjectives make sense as they impart more context than verbs\n",
    "# *usually*\n",
    "data['words1'] = map(lambda x: filter(lambda a: (a[0] not in ls and (a[1]=='NNP') or a[1]=='JJ') ,x) , data['words'])\n",
    "# only words\n",
    "data['words_only'] = map(lambda x: map(lambda a:a[0],x), data['words1'])\n",
    "# take combinations of words - to see which words occur together in headlines\n",
    "data['combinations'] = map(lambda x: list(combinations(x,2)), data['words_only'])\n",
    "\n",
    "list_combinations = [item for sublist in list(data['combinations']) for item in sublist]"
   ]
  },
  {
   "cell_type": "code",
   "execution_count": 2,
   "metadata": {
    "collapsed": false
   },
   "outputs": [],
   "source": [
    "collections.Counter(list_combinations)"
   ]
  },
  {
   "cell_type": "code",
   "execution_count": 107,
   "metadata": {
    "collapsed": true
   },
   "outputs": [],
   "source": [
    "#lets check in what context does dog occur in BF headlines\n",
    "check = filter(lambda x: 'DOG' in x, list_combinations)"
   ]
  },
  {
   "cell_type": "code",
   "execution_count": 3,
   "metadata": {
    "collapsed": false
   },
   "outputs": [],
   "source": [
    "check[:10]"
   ]
  },
  {
   "cell_type": "markdown",
   "metadata": {},
   "source": [
    "[('ADORABLE', 'DOG'),\n",
    " ('RESCUE', 'DOG'),\n",
    " ('PUPPY', 'DOG'),\n",
    " ('MAY', 'DOG'),\n",
    " ('HALF', 'DOG'),\n",
    " ('DOG', 'DOUBLE'),\n",
    " ('DOG', 'HEART'), ... ]"
   ]
  },
  {
   "cell_type": "code",
   "execution_count": 183,
   "metadata": {
    "collapsed": false,
    "scrolled": true
   },
   "outputs": [],
   "source": [
    "edges = list(set(list_combinations))[:1000]\n",
    "# choosing a small number as too big nets take a longer time\n",
    "n1, n2 = zip(*edges)\n",
    "# take the first and second nodes\n",
    "nodes = list(set(n1+n2))\n",
    "nos = range(len(nodes))\n",
    "\n",
    "edges_dict = dict(zip(nodes, nos))\n",
    "\n",
    "edges1 = map(lambda x: (edges_dict[x[0]], edges_dict[x[1]]),edges)\n",
    "\n",
    "E = edges1\n",
    "# create a graph\n",
    "G = nx.Graph()\n",
    "# add nodes\n",
    "G.add_nodes_from(nodes)\n",
    "# add edges\n",
    "G.add_edges_from(edges1)\n",
    "\n",
    "pos=nx.fruchterman_reingold_layout(G) \n",
    "\n",
    "N = len(nodes)\n",
    "labels = nodes\n",
    "N"
   ]
  },
  {
   "cell_type": "code",
   "execution_count": 194,
   "metadata": {
    "collapsed": true
   },
   "outputs": [],
   "source": [
    "# code taken from PLOTLY tutorial : \n",
    "# https://plot.ly/python/igraph-networkx-comparison/\n",
    "\n",
    "axis=dict(showline=False, # hide axis line, grid, ticklabels and  title\n",
    "          zeroline=False,\n",
    "          showgrid=False,\n",
    "          showticklabels=False,\n",
    "          title='' \n",
    "          )\n",
    "\n",
    "width=800\n",
    "height=800\n",
    "layout=Layout(title= \"Coauthorship network of scientists working on network theory and experiment\"+\\\n",
    "              \"<br> Data source: <a href='https://networkdata.ics.uci.edu/data.php?id=11'> [1]</a>\",  \n",
    "    font= Font(size=12),\n",
    "    showlegend=False,\n",
    "    autosize=False,\n",
    "    width=width,\n",
    "    height=height,\n",
    "    xaxis=XAxis(axis),\n",
    "    yaxis=YAxis(axis),          \n",
    "    margin=Margin(\n",
    "        l=40,\n",
    "        r=40,\n",
    "        b=85,\n",
    "        t=100,\n",
    "    ),\n",
    "    hovermode='closest',\n",
    "    annotations=Annotations([\n",
    "           Annotation(\n",
    "           showarrow=False, \n",
    "            text='This igraph.Graph has the Kamada-Kawai layout',  \n",
    "            xref='paper',     \n",
    "            yref='paper',     \n",
    "            x=0,  \n",
    "            y=-0.1,  \n",
    "            xanchor='left',   \n",
    "            yanchor='bottom',  \n",
    "            font=Font(\n",
    "            size=14 \n",
    "            )     \n",
    "            )\n",
    "        ]),           \n",
    "    )"
   ]
  },
  {
   "cell_type": "code",
   "execution_count": 195,
   "metadata": {
    "collapsed": false
   },
   "outputs": [
    {
     "data": {
      "text/html": [
       "<iframe id=\"igraph\" scrolling=\"no\" style=\"border:none;\" seamless=\"seamless\" src=\"https://plot.ly/~priyakhokher/26.embed\" height=\"800px\" width=\"800px\"></iframe>"
      ],
      "text/plain": [
       "<plotly.tools.PlotlyDisplay object>"
      ]
     },
     "execution_count": 195,
     "metadata": {},
     "output_type": "execute_result"
    }
   ],
   "source": [
    "Xv=[pos[k][0] for k in range(N)]\n",
    "Yv=[pos[k][1] for k in range(N)]\n",
    "Xed=[]\n",
    "Yed=[]\n",
    "for edge in E:\n",
    "    Xed+=[pos[edge[0]][0],pos[edge[1]][0], None]\n",
    "    Yed+=[pos[edge[0]][1],pos[edge[1]][1], None] \n",
    "    \n",
    "trace3=Scatter(x=Xed,\n",
    "               y=Yed,\n",
    "               mode='lines',\n",
    "               line=Line(color='rgb(210,210,210)', width=1),\n",
    "               hoverinfo='none'\n",
    "               )\n",
    "trace4=Scatter(x=Xv,\n",
    "               y=Yv,\n",
    "               mode='markers',\n",
    "               name='net',\n",
    "               marker=Marker(symbol='dot',\n",
    "                             size=5, \n",
    "                             color='#6959CD',\n",
    "                             line=Line(color='rgb(50,50,50)', width=0.5)\n",
    "                             ),\n",
    "               text=labels,\n",
    "               hoverinfo='text'\n",
    "               )\n",
    "\n",
    "annot=\"This networkx.Graph has the Fruchterman-Reingold layout<br>Code:\"+\\\n",
    "\"<a href='http://nbviewer.ipython.org/gist/empet/07ea33b2e4e0b84193bd'> [2]</a>\"\n",
    "\n",
    "data1=Data([trace3, trace4])\n",
    "fig1=Figure(data=data1, layout=layout)\n",
    "fig1['layout']['annotations'][0]['text']=annot\n",
    "py.iplot(fig1, filename='Coautorship-network-nx')"
   ]
  },
  {
   "cell_type": "code",
   "execution_count": null,
   "metadata": {
    "collapsed": true
   },
   "outputs": [],
   "source": []
  }
 ],
 "metadata": {
  "kernelspec": {
   "display_name": "Python 2",
   "language": "python",
   "name": "python2"
  },
  "language_info": {
   "codemirror_mode": {
    "name": "ipython",
    "version": 2
   },
   "file_extension": ".py",
   "mimetype": "text/x-python",
   "name": "python",
   "nbconvert_exporter": "python",
   "pygments_lexer": "ipython2",
   "version": "2.7.11"
  }
 },
 "nbformat": 4,
 "nbformat_minor": 0
}
