{
 "cells": [
  {
   "cell_type": "code",
   "execution_count": 19,
   "metadata": {
    "collapsed": true
   },
   "outputs": [],
   "source": [
    "import os,sys\n",
    "import numpy as np\n",
    "import networkx as nx\n",
    "%matplotlib inline"
   ]
  },
  {
   "cell_type": "code",
   "execution_count": 6,
   "metadata": {
    "collapsed": false
   },
   "outputs": [
    {
     "name": "stdout",
     "output_type": "stream",
     "text": [
      "1.11\n"
     ]
    }
   ],
   "source": [
    "print networkx.__version__\n"
   ]
  },
  {
   "cell_type": "code",
   "execution_count": 22,
   "metadata": {
    "collapsed": false
   },
   "outputs": [],
   "source": [
    "G = nx.Graph()\n"
   ]
  },
  {
   "cell_type": "code",
   "execution_count": 23,
   "metadata": {
    "collapsed": true
   },
   "outputs": [],
   "source": [
    "nodes = [{\"group\": 1, \"id\": \"title ix\"}, {\"group\": 1, \"id\": \"bathrooms\"}, {\"group\": 1, \"id\": \"orlando shooting\"}, {\"group\": 1, \"id\": \"marriage equality\"}, {\"group\": 1, \"id\": \"aids\"}, {\"group\": 1, \"id\": \"bisexual\"}, {\"group\": 1, \"id\": \"truvada\"}, {\"group\": 1, \"id\": \"plebiscite\"}, {\"group\": 1, \"id\": \"sex\"}, {\"group\": 1, \"id\": \"add yours\"}, {\"group\": 1, \"id\": \"lol\"}, {\"group\": 1, \"id\": \"nhs\"}, {\"group\": 1, \"id\": \"queer\"}, {\"group\": 1, \"id\": \"social news\"}, {\"group\": 1, \"id\": \"coming out\"}, {\"group\": 1, \"id\": \"relationships\"}, {\"group\": 1, \"id\": \"viral\"}, {\"group\": 1, \"id\": \"style\"}, {\"group\": 1, \"id\": \"hiv\"}, {\"group\": 1, \"id\": \"north carolina\"}, {\"group\": 1, \"id\": \"quiz\"}, {\"group\": 1, \"id\": \"auspol\"}, {\"group\": 1, \"id\": \"transgender\"}, {\"group\": 1, \"id\": \"dating\"}, {\"group\": 1, \"id\": \"hb2\"}, {\"group\": 1, \"id\": \"transrights\"}, {\"group\": 1, \"id\": \"canada\"}, {\"group\": 1, \"id\": \"australia\"}, {\"group\": 1, \"id\": \"gay\"}, {\"group\": 1, \"id\": \"love\"}, {\"group\": 1, \"id\": \"collection\"}, {\"group\": 1, \"id\": \"lgbt\"}, {\"group\": 1, \"id\": \"lesbian\"}, {\"group\": 1, \"id\": \"television\"}, {\"group\": 1, \"id\": \"pride\"}, {\"group\": 1, \"id\": \"trans rights\"}, {\"group\": 1, \"id\": \"lesbians\"}, {\"group\": 1, \"id\": \"trans\"}, {\"group\": 1, \"id\": \"same-sex marriage\"}]\n",
    "edges = [{\"source\": \"lgbt\", \"target\": \"trans\", \"value\": 24}, {\"source\": \"australia\", \"target\": \"gay\", \"value\": 25}, {\"source\": \"title ix\", \"target\": \"transgender\", \"value\": 11}, {\"source\": \"relationships\", \"target\": \"lgbt\", \"value\": 454}, {\"source\": \"transgender\", \"target\": \"social news\", \"value\": 38}, {\"source\": \"lgbt\", \"target\": \"north carolina\", \"value\": 11}, {\"source\": \"lgbt\", \"target\": \"quiz\", \"value\": 19}, {\"source\": \"add yours\", \"target\": \"collection\", \"value\": 11}, {\"source\": \"lgbt\", \"target\": \"style\", \"value\": 12}, {\"source\": \"lgbt\", \"target\": \"gay\", \"value\": 18}, {\"source\": \"lgbt\", \"target\": \"social news\", \"value\": 77}, {\"source\": \"lgbt\", \"target\": \"add yours\", \"value\": 13}, {\"source\": \"lgbt\", \"target\": \"australia\", \"value\": 14}, {\"source\": \"transgender\", \"target\": \"north carolina\", \"value\": 31}, {\"source\": \"lgbt\", \"target\": \"television\", \"value\": 11}, {\"source\": \"bisexual\", \"target\": \"lesbian\", \"value\": 11}, {\"source\": \"lgbt\", \"target\": \"dating\", \"value\": 12}, {\"source\": \"lgbt\", \"target\": \"collection\", \"value\": 46}, {\"source\": \"bisexual\", \"target\": \"lgbt\", \"value\": 11}, {\"source\": \"transgender\", \"target\": \"bathrooms\", \"value\": 34}, {\"source\": \"transgender\", \"target\": \"australia\", \"value\": 35}, {\"source\": \"lgbt\", \"target\": \"queer\", \"value\": 11}, {\"source\": \"bisexual\", \"target\": \"gay\", \"value\": 11}, {\"source\": \"lgbt\", \"target\": \"viral\", \"value\": 18}, {\"source\": \"transrights\", \"target\": \"transgender\", \"value\": 13}, {\"source\": \"canada\", \"target\": \"lgbt\", \"value\": 14}, {\"source\": \"lgbt\", \"target\": \"love\", \"value\": 22}, {\"source\": \"viral\", \"target\": \"social news\", \"value\": 192}, {\"source\": \"coming out\", \"target\": \"gay\", \"value\": 13}, {\"source\": \"marriage equality\", \"target\": \"australia\", \"value\": 16}, {\"source\": \"lgbt\", \"target\": \"lol\", \"value\": 12}, {\"source\": \"gay\", \"target\": \"sex\", \"value\": 35}, {\"source\": \"marriage equality\", \"target\": \"same-sex marriage\", \"value\": 57}, {\"source\": \"lgbt\", \"target\": \"orlando shooting\", \"value\": 29}, {\"source\": \"lgbt\", \"target\": \"trans rights\", \"value\": 68}, {\"source\": \"marriage equality\", \"target\": \"plebiscite\", \"value\": 13}, {\"source\": \"lgbt\", \"target\": \"coming out\", \"value\": 13}, {\"source\": \"lgbt\", \"target\": \"pride\", \"value\": 31}, {\"source\": \"transgender\", \"target\": \"trans\", \"value\": 17}, {\"source\": \"lesbian\", \"target\": \"queer\", \"value\": 21}, {\"source\": \"dating\", \"target\": \"gay\", \"value\": 20}, {\"source\": \"gay\", \"target\": \"quiz\", \"value\": 12}, {\"source\": \"transrights\", \"target\": \"bathrooms\", \"value\": 23}, {\"source\": \"truvada\", \"target\": \"hiv\", \"value\": 12}, {\"source\": \"lgbt\", \"target\": \"lgbt\", \"value\": 40}, {\"source\": \"lesbian\", \"target\": \"lgbt\", \"value\": 33}, {\"source\": \"sex\", \"target\": \"auspol\", \"value\": 17}, {\"source\": \"australia\", \"target\": \"aids\", \"value\": 11}, {\"source\": \"hiv\", \"target\": \"lgbt\", \"value\": 21}, {\"source\": \"lesbians\", \"target\": \"gay\", \"value\": 11}, {\"source\": \"queer\", \"target\": \"lgbt\", \"value\": 16}, {\"source\": \"transgender\", \"target\": \"north carolina\", \"value\": 14}, {\"source\": \"hb2\", \"target\": \"lesbian\", \"value\": 17}, {\"source\": \"gay\", \"target\": \"nhs\", \"value\": 42}]"
   ]
  },
  {
   "cell_type": "code",
   "execution_count": 24,
   "metadata": {
    "collapsed": true
   },
   "outputs": [],
   "source": [
    "nodes = map(lambda x: x[\"id\"], nodes)\n",
    "edges = map(lambda x: (x[\"source\"],x[\"target\"]), edges)"
   ]
  },
  {
   "cell_type": "code",
   "execution_count": 25,
   "metadata": {
    "collapsed": false
   },
   "outputs": [],
   "source": [
    "G.add_nodes_from(nodes)\n",
    "G.add_edges_from(edges)"
   ]
  },
  {
   "cell_type": "code",
   "execution_count": 26,
   "metadata": {
    "collapsed": false
   },
   "outputs": [
    {
     "data": {
      "image/png": "[encoded data removed]",
      "text/plain": [
       "<matplotlib.figure.Figure at 0x7f53828>"
      ]
     },
     "metadata": {},
     "output_type": "display_data"
    }
   ],
   "source": [
    "nx.draw(G)"
   ]
  },
  {
   "cell_type": "code",
   "execution_count": 27,
   "metadata": {
    "collapsed": false
   },
   "outputs": [
    {
     "data": {
      "text/plain": [
       "{'add yours': 0.05263157894736842,\n",
       " 'aids': 0.02631578947368421,\n",
       " 'auspol': 0.02631578947368421,\n",
       " 'australia': 0.13157894736842105,\n",
       " 'bathrooms': 0.05263157894736842,\n",
       " 'bisexual': 0.07894736842105263,\n",
       " 'canada': 0.02631578947368421,\n",
       " 'collection': 0.05263157894736842,\n",
       " 'coming out': 0.05263157894736842,\n",
       " 'dating': 0.05263157894736842,\n",
       " 'gay': 0.23684210526315788,\n",
       " 'hb2': 0.02631578947368421,\n",
       " 'hiv': 0.05263157894736842,\n",
       " 'lesbian': 0.10526315789473684,\n",
       " 'lesbians': 0.02631578947368421,\n",
       " 'lgbt': 0.6842105263157894,\n",
       " 'lol': 0.02631578947368421,\n",
       " 'love': 0.02631578947368421,\n",
       " 'marriage equality': 0.07894736842105263,\n",
       " 'nhs': 0.02631578947368421,\n",
       " 'north carolina': 0.05263157894736842,\n",
       " 'orlando shooting': 0.02631578947368421,\n",
       " 'plebiscite': 0.02631578947368421,\n",
       " 'pride': 0.02631578947368421,\n",
       " 'queer': 0.05263157894736842,\n",
       " 'quiz': 0.05263157894736842,\n",
       " 'relationships': 0.02631578947368421,\n",
       " 'same-sex marriage': 0.02631578947368421,\n",
       " 'sex': 0.05263157894736842,\n",
       " 'social news': 0.07894736842105263,\n",
       " 'style': 0.02631578947368421,\n",
       " 'television': 0.02631578947368421,\n",
       " 'title ix': 0.02631578947368421,\n",
       " 'trans': 0.05263157894736842,\n",
       " 'trans rights': 0.02631578947368421,\n",
       " 'transgender': 0.18421052631578946,\n",
       " 'transrights': 0.05263157894736842,\n",
       " 'truvada': 0.02631578947368421,\n",
       " 'viral': 0.05263157894736842}"
      ]
     },
     "execution_count": 27,
     "metadata": {},
     "output_type": "execute_result"
    }
   ],
   "source": [
    "# Check centrality\n",
    "nx.degree_centrality(G)"
   ]
  },
  {
   "cell_type": "code",
   "execution_count": 40,
   "metadata": {
    "collapsed": false
   },
   "outputs": [
    {
     "data": {
      "text/plain": [
       "{'add yours': 0.0,\n",
       " 'aids': 0.0,\n",
       " 'auspol': 0.0,\n",
       " 'australia': 0.2594594594594594,\n",
       " 'bathrooms': 0.0,\n",
       " 'bisexual': 0.007112375533428165,\n",
       " 'canada': 0.0,\n",
       " 'collection': 0.0,\n",
       " 'coming out': 0.0,\n",
       " 'dating': 0.0,\n",
       " 'gay': 0.22361308677098157,\n",
       " 'hb2': 0.0,\n",
       " 'hiv': 0.052631578947368425,\n",
       " 'lesbian': 0.05334281650071124,\n",
       " 'lesbians': 0.0,\n",
       " 'lgbt': 0.7642958748221907,\n",
       " 'lol': 0.0,\n",
       " 'love': 0.0,\n",
       " 'marriage equality': 0.10384068278805121,\n",
       " 'nhs': 0.0,\n",
       " 'north carolina': 0.028733997155049793,\n",
       " 'orlando shooting': 0.0,\n",
       " 'plebiscite': 0.0,\n",
       " 'pride': 0.0,\n",
       " 'queer': 0.0,\n",
       " 'quiz': 0.0,\n",
       " 'relationships': 0.0,\n",
       " 'same-sex marriage': 0.0,\n",
       " 'sex': 0.052631578947368425,\n",
       " 'social news': 0.03442389758179232,\n",
       " 'style': 0.0,\n",
       " 'television': 0.0,\n",
       " 'title ix': 0.0,\n",
       " 'trans': 0.028733997155049793,\n",
       " 'trans rights': 0.0,\n",
       " 'transgender': 0.16500711237553345,\n",
       " 'transrights': 0.0,\n",
       " 'truvada': 0.0,\n",
       " 'viral': 0.0}"
      ]
     },
     "execution_count": 40,
     "metadata": {},
     "output_type": "execute_result"
    }
   ],
   "source": [
    "dicty = nx.betweenness_centrality(G)\n",
    "dicty"
   ]
  },
  {
   "cell_type": "code",
   "execution_count": 31,
   "metadata": {
    "collapsed": false
   },
   "outputs": [
    {
     "data": {
      "text/plain": [
       "{'add yours': 0.13535281181757614,\n",
       " 'aids': 0.03130223636520833,\n",
       " 'auspol': 0.007904331339155187,\n",
       " 'australia': 0.188252503333118,\n",
       " 'bathrooms': 0.022152193633675783,\n",
       " 'bisexual': 0.18772845641243802,\n",
       " 'canada': 0.11284669140023496,\n",
       " 'collection': 0.13535281181757614,\n",
       " 'coming out': 0.15906959922371133,\n",
       " 'dating': 0.15906959922371133,\n",
       " 'gay': 0.277988963994316,\n",
       " 'hb2': 0.028658857188726655,\n",
       " 'hiv': 0.11605535626893847,\n",
       " 'lesbian': 0.17235611507903584,\n",
       " 'lesbians': 0.04622290782347639,\n",
       " 'lgbt': 0.6786744483502283,\n",
       " 'lol': 0.11284669140023496,\n",
       " 'love': 0.11284669140023496,\n",
       " 'marriage equality': 0.03313443608834609,\n",
       " 'nhs': 0.04622290782347639,\n",
       " 'north carolina': 0.13131544858930208,\n",
       " 'orlando shooting': 0.11284669140023496,\n",
       " 'plebiscite': 0.005509395071924018,\n",
       " 'pride': 0.11284669140023496,\n",
       " 'queer': 0.1415055485889616,\n",
       " 'quiz': 0.15906959922371133,\n",
       " 'relationships': 0.11284669140023496,\n",
       " 'same-sex marriage': 0.005509395071924018,\n",
       " 'sex': 0.047537206693018315,\n",
       " 'social news': 0.1543467044651718,\n",
       " 'style': 0.11284669140023496,\n",
       " 'television': 0.11284669140023496,\n",
       " 'title ix': 0.018468757189067115,\n",
       " 'trans': 0.13131544858930208,\n",
       " 'trans rights': 0.11284669140023496,\n",
       " 'transgender': 0.11107431044928139,\n",
       " 'transrights': 0.022152193633675783,\n",
       " 'truvada': 0.019297455548637682,\n",
       " 'viral': 0.13851111280365627}"
      ]
     },
     "execution_count": 31,
     "metadata": {},
     "output_type": "execute_result"
    }
   ],
   "source": [
    "nx.eigenvector_centrality(G)"
   ]
  },
  {
   "cell_type": "code",
   "execution_count": null,
   "metadata": {
    "collapsed": true
   },
   "outputs": [],
   "source": []
  }
 ],
 "metadata": {
  "kernelspec": {
   "display_name": "Python 2",
   "language": "python",
   "name": "python2"
  },
  "language_info": {
   "codemirror_mode": {
    "name": "ipython",
    "version": 2
   },
   "file_extension": ".py",
   "mimetype": "text/x-python",
   "name": "python",
   "nbconvert_exporter": "python",
   "pygments_lexer": "ipython2",
   "version": "2.7.11"
  }
 },
 "nbformat": 4,
 "nbformat_minor": 0
}
